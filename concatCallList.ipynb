{
 "cells": [
  {
   "cell_type": "code",
   "execution_count": null,
   "metadata": {
    "pycharm": {
     "name": "#%%\n"
    }
   },
   "outputs": [],
   "source": [
    "import numpy as np\n",
    "import pandas as pd"
   ]
  },
  {
   "cell_type": "code",
   "execution_count": null,
   "metadata": {
    "pycharm": {
     "name": "#%%\n"
    },
    "scrolled": true
   },
   "outputs": [],
   "source": [
    "df = pd.read_excel('hfd.xlsx')\n",
    "df.head()"
   ]
  },
  {
   "cell_type": "code",
   "execution_count": null,
   "metadata": {},
   "outputs": [],
   "source": [
    "dfEx = df.drop('Job',axis=1)\n",
    "dfEx.head()"
   ]
  },
  {
   "cell_type": "code",
   "execution_count": null,
   "metadata": {},
   "outputs": [],
   "source": [
    "df2 = dfEx.astype(str).agg(\"\\n\".join,axis=1).replace('\\nnan','',regex=True)"
   ]
  },
  {
   "cell_type": "code",
   "execution_count": null,
   "metadata": {},
   "outputs": [],
   "source": [
    "print(df2[0])"
   ]
  },
  {
   "cell_type": "code",
   "execution_count": null,
   "metadata": {},
   "outputs": [],
   "source": [
    "df2[0]"
   ]
  },
  {
   "cell_type": "code",
   "execution_count": null,
   "metadata": {},
   "outputs": [],
   "source": [
    "len(df2)"
   ]
  },
  {
   "cell_type": "code",
   "execution_count": null,
   "metadata": {
    "scrolled": true
   },
   "outputs": [],
   "source": [
    "s = df2[0]\n",
    "type(s)"
   ]
  },
  {
   "cell_type": "code",
   "execution_count": null,
   "metadata": {},
   "outputs": [],
   "source": [
    "for idxRow, row in enumerate(df2):\n",
    "    cont=0\n",
    "    for idx, x in enumerate(row):\n",
    "        if(idx==0):\n",
    "            cont+=1\n",
    "            df2[idxRow]= df2[idxRow].replace(x,str(cont)+'. '+x,1)\n",
    "        if(x=='\\n'):\n",
    "            cont+=1\n",
    "            df2[idxRow]= df2[idxRow].replace('\\n',\" linha\"+str(cont)+'. ',1)\n",
    "    df2[idxRow]=df2[idxRow].replace(\"linha\",'\\n')"
   ]
  },
  {
   "cell_type": "code",
   "execution_count": null,
   "metadata": {},
   "outputs": [],
   "source": [
    "print(df2[len(df2)-1])"
   ]
  },
  {
   "cell_type": "code",
   "execution_count": null,
   "metadata": {},
   "outputs": [],
   "source": [
    "df2 = df2.to_frame()\n",
    "df2.head()"
   ]
  },
  {
   "cell_type": "code",
   "execution_count": null,
   "metadata": {},
   "outputs": [],
   "source": [
    "df2.insert(0, 'Job', value=df['Job'])"
   ]
  },
  {
   "cell_type": "code",
   "execution_count": null,
   "metadata": {
    "scrolled": true
   },
   "outputs": [],
   "source": [
    "df2.rename(columns={ df2.columns[1]: \"Instructions\" }, inplace = True)\n",
    "df2.head()"
   ]
  },
  {
   "cell_type": "code",
   "execution_count": null,
   "metadata": {},
   "outputs": [],
   "source": [
    "writer = pd.ExcelWriter('outTeste.xlsx', engine='xlsxwriter')\n",
    "df2.to_excel(writer, sheet_name='Sheet1',index=False)\n",
    "workbook=writer.book\n",
    "worksheet = writer.sheets['Sheet1']\n",
    "\n",
    "format = workbook.add_format({'text_wrap': True})\n",
    "\n",
    "# Setting the format column A-B width to 50.\n",
    "worksheet.set_column('A:A', 50, format)\n",
    "worksheet.set_column('B:B', 80, format)\n",
    "\n",
    "writer.save()"
   ]
  },
  {
   "cell_type": "markdown",
   "metadata": {},
   "source": [
    "# Função comprimida para economizar linhas futuras de código"
   ]
  },
  {
   "cell_type": "code",
   "execution_count": 26,
   "metadata": {},
   "outputs": [],
   "source": [
    "import numpy as np\n",
    "import pandas as pd\n",
    "\n",
    "def ConcatFormatExcel(name):\n",
    "    print(\"Executando a planilha:\",name)\n",
    "    \n",
    "    # Formatando o dataframe e removendo colunas não usadas(Que irão ficar como NaN se não forem removidas)\n",
    "    df = pd.read_excel(name+'.xlsx')\n",
    "    dfEx = df.drop('Job',axis=1)\n",
    "    df2 = dfEx.astype(str).agg(\"\\n\".join,axis=1).replace('\\nnan','',regex=True)\n",
    "    \n",
    "    print(\"Formatação concluída\")\n",
    "    \n",
    "    # Concatenando e Enumerando as instruções da call list\n",
    "    for idxRow, row in enumerate(df2):\n",
    "        # O contador serve para saber o número da instrução atual a ser concatenada\n",
    "        cont=0\n",
    "        for x in row:\n",
    "            # Inicialização do contador e da primeira instrução(Um job sempre tem ao menos 1 instrução)\n",
    "            if(cont==0):\n",
    "                cont+=1\n",
    "                df2[idxRow]= df2[idxRow].replace(x,str(cont)+'. '+x,1)\n",
    "            if(x=='\\n'):\n",
    "                cont+=1\n",
    "                df2[idxRow]= df2[idxRow].replace('\\n',\" linha\"+str(cont)+'. ',1)\n",
    "        df2[idxRow]=df2[idxRow].replace(\"linha\",'\\n')\n",
    "        \n",
    "    print(\"Concatenação e Enumeração concluída\")\n",
    "        \n",
    "    #Preparando o dataframe de output\n",
    "    df2 = df2.to_frame()\n",
    "    df2.insert(0, 'Job', value=df['Job'])\n",
    "    df2.rename(columns={ df2.columns[1]: \"Instructions\" }, inplace = True)\n",
    "    \n",
    "    print(\"Preparação do Output concluída\")\n",
    "    \n",
    "    \n",
    "    # Escrita do Output em um arquivo excel\n",
    "    writer = pd.ExcelWriter(name+'Output.xlsx', engine='xlsxwriter')\n",
    "    df2.to_excel(writer, sheet_name='Sheet1',index=False)\n",
    "    workbook=writer.book\n",
    "    worksheet = writer.sheets['Sheet1']\n",
    "    format = workbook.add_format({'text_wrap': True})\n",
    "    worksheet.set_column('A:A', 50, format)\n",
    "    worksheet.set_column('B:B', 80, format)\n",
    "    writer.save()\n",
    "    \n",
    "    print(\"Planilha:\",name,\"finalizada com sucesso\\n\")"
   ]
  },
  {
   "cell_type": "code",
   "execution_count": 27,
   "metadata": {},
   "outputs": [
    {
     "name": "stdout",
     "output_type": "stream",
     "text": [
      "Executando a planilha: hfd\n",
      "Formatação concluída\n",
      "Concatenação e Enumeração concluída\n",
      "Preparação do Output concluída\n",
      "Planilha: hfd finalizada com sucesso\n",
      "\n"
     ]
    }
   ],
   "source": [
    "ConcatFormatExcel('hfd')\n",
    "ConcatFormatExcel('hli')\n",
    "ConcatFormatExcel('bld')\n",
    "ConcatFormatExcel('dev')"
   ]
  }
 ],
 "metadata": {
  "kernelspec": {
   "display_name": "Python 3 (ipykernel)",
   "language": "python",
   "name": "python3"
  },
  "language_info": {
   "codemirror_mode": {
    "name": "ipython",
    "version": 3
   },
   "file_extension": ".py",
   "mimetype": "text/x-python",
   "name": "python",
   "nbconvert_exporter": "python",
   "pygments_lexer": "ipython3",
   "version": "3.9.6"
  }
 },
 "nbformat": 4,
 "nbformat_minor": 1
}
